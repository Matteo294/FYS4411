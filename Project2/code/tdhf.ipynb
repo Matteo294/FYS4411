{
 "cells": [
  {
   "cell_type": "code",
   "execution_count": null,
   "metadata": {},
   "outputs": [],
   "source": [
    "%reset"
   ]
  },
  {
   "cell_type": "code",
   "execution_count": null,
   "metadata": {},
   "outputs": [],
   "source": [
    "import numpy as np\n",
    "import matplotlib.pyplot as plt\n",
    "import scipy.linalg, scipy.integrate\n",
    "import do\n",
    "from importlib import reload\n",
    "from IPython.display import display, clear_output\n",
    "from quantum_systems import ODQD, GeneralOrbitalSystem"
   ]
  },
  {
   "cell_type": "code",
   "execution_count": null,
   "metadata": {},
   "outputs": [],
   "source": [
    "### PARAMETERS ###\n",
    "l = 10 # Number of eigenstates of the HO potential --> we use these functions to generate the single particle WF\n",
    "grid_length = 10  # The width of the one-dimensional grid\n",
    "num_grid_points = 201  # The number of discretized points on the grid.\n",
    "# More points give better results for the single-particle basis at the cost of slower setup.\n",
    "alpha = 1  # The strength of the Coulomb interaction \n",
    "a = 0.25  # The shielding parameter in the Coulomb interaction potential\n",
    "Omega = 0.25  # The frequency of the harmonic oscillator trap\n",
    "omega = 8*Omega # frequency of the laser field\n",
    "epsilon0 = 1.0 # amplitude of the laser field\n",
    "potential=ODQD.HOPotential(Omega)\n",
    "nparticles = 2"
   ]
  },
  {
   "cell_type": "code",
   "execution_count": null,
   "metadata": {
    "tags": []
   },
   "outputs": [],
   "source": [
    "reload(do)\n",
    "odho = ODQD(l, grid_length, num_grid_points, a=a, alpha=alpha, potential=potential)\n",
    "system = GeneralOrbitalSystem(n=nparticles, basis_set=odho, anti_symmetrize=True)\n",
    "epsilon, C0 = do.solve_TIHF(system, nparticles, tolerance=1e-7, max_iter=1000, print_on=True)"
   ]
  },
  {
   "cell_type": "code",
   "execution_count": null,
   "metadata": {},
   "outputs": [],
   "source": [
    "reload(do)\n",
    "obd = do.eval_one_body_density(system, nparticles, C0)\n",
    "do.plot_overlap_one_body_density(system, obd)"
   ]
  },
  {
   "cell_type": "code",
   "execution_count": null,
   "metadata": {
    "tags": []
   },
   "outputs": [],
   "source": [
    "reload(do)\n",
    "dt = 1e-3\n",
    "t_max = 4*2*np.pi/omega\n",
    "overlap,time = do.solve_TDHF(system, dt, t_max, C0, omega, epsilon0, nparticles, animation=False)\n",
    "do.plot_overlap_slater_det(system, overlap, time)"
   ]
  }
 ],
 "metadata": {
  "kernelspec": {
   "name": "python385jvsc74a57bd07c50efc9c5e7cd6763e801f6499f1b1d25a18b544a090ecb533edb37b15d92c1",
   "display_name": "Python 3.8.5 64-bit (conda)"
  },
  "language_info": {
   "codemirror_mode": {
    "name": "ipython",
    "version": 3
   },
   "file_extension": ".py",
   "mimetype": "text/x-python",
   "name": "python",
   "nbconvert_exporter": "python",
   "pygments_lexer": "ipython3",
   "version": "3.8.5"
  }
 },
 "nbformat": 4,
 "nbformat_minor": 4
}