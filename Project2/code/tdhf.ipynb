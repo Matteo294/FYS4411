{
 "cells": [
  {
   "cell_type": "code",
   "execution_count": null,
   "metadata": {},
   "outputs": [],
   "source": [
    "import numpy as np\n",
    "import matplotlib.pyplot as plt\n",
    "import scipy.linalg, scipy.integrate\n",
    "import do2\n",
    "from importlib import reload\n",
    "from IPython.display import display, clear_output\n",
    "import time\n",
    "from quantum_systems import ODQD, GeneralOrbitalSystem\n",
    "from matplotlib import animation, rc\n",
    "from IPython.display import HTML\n",
    "%load_ext autoreload\n",
    "%autoreload 2"
   ]
  },
  {
   "cell_type": "code",
   "execution_count": null,
   "metadata": {},
   "outputs": [],
   "source": [
    "### PARAMETERS ###\n",
    "l = 10 # Number of eigenstates of the HO potential --> we use these functions to generate the single particle WF\n",
    "grid_length = 10  # The width of the one-dimensional grid\n",
    "num_grid_points = 201  # The number of discretized points on the grid.\n",
    "# More points give better results for the single-particle basis at the cost of slower setup.\n",
    "alpha = 1  # The strength of the Coulomb interaction \n",
    "a = 0.25  # The shielding parameter in the Coulomb interaction potential\n",
    "Omega = 0.25  # The frequency of the harmonic oscillator trap\n",
    "omega = 8*Omega # frequency of the laser field\n",
    "epsilon0 = 1.0 # amplitude of the laser field\n",
    "potential=ODQD.HOPotential(Omega)\n",
    "nparticles = 2"
   ]
  },
  {
   "cell_type": "code",
   "execution_count": null,
   "metadata": {},
   "outputs": [],
   "source": [
    "Omega = 0.25\n",
    "omega = 8*Omega\n",
    "T_on = 10*np.pi\n",
    "T_tot = 100*np.pi\n",
    "ghf = do2.GHF(Omega=Omega, omega=omega)\n",
    "C2, time1, dipole1, overlap1, energy1, xFFT1, xfreqFFT1, overlapFFT1, overlapfreqFFT1 = ghf.fourier_analysis(tolerance=1e-6, max_iter=100, t_laser_ON=T_on, t_max=T_tot, dt=1e-3)\n",
    "ghf.plot_fourier_analysis(time1, dipole1, overlap1, energy1, xFFT1, xfreqFFT1, overlapFFT1, overlapfreqFFT1, save_dipole=False, save_overlap=False, save_fft_x=False, save_fft_overlap=False)"
   ]
  },
  {
   "cell_type": "code",
   "execution_count": null,
   "metadata": {},
   "outputs": [],
   "source": []
  },
  {
   "cell_type": "code",
   "execution_count": null,
   "metadata": {},
   "outputs": [],
   "source": [
    "##########################################################"
   ]
  },
  {
   "cell_type": "code",
   "execution_count": null,
   "metadata": {},
   "outputs": [],
   "source": [
    "Omega = 0.25\n",
    "omega = 8*Omega\n",
    "T_on = 10*np.pi\n",
    "T_tot = 100*np.pi\n",
    "ghf = do2.GHF(Omega=Omega, omega=omega)\n",
    "C2, time1, dipole1, overlap1, xFFT1, xfreqFFT1, overlapFFT1, overlapfreqFFT1 = ghf.fourier_analysis(tolerance=1e-6, max_iter=100, t_laser_ON=T_on, t_max=T_tot, dt=1e-3)\n",
    "ghf.plot_fourier_analysis(time1, dipole1, overlap1, energy, xFFT1, xfreqFFT1, overlapFFT1, overlapfreqFFT1, save_dipole=False, save_overlap=False, save_fft_x=False, save_fft_overlap=False)"
   ]
  },
  {
   "cell_type": "code",
   "execution_count": null,
   "metadata": {},
   "outputs": [],
   "source": [
    "Omega = 0.5\n",
    "omega = 5.0\n",
    "T_on = 10*np.pi\n",
    "T_tot = 100*np.pi\n",
    "ghf = do2.GHF(Omega=Omega, omega=omega)\n",
    "C2, time2, dipole2, overlap2, xFFT2, xfreqFFT2, overlapFFT2, overlapfreqFFT2 = ghf.fourier_analysis(tolerance=1e-6, max_iter=100, t_laser_ON=T_on, t_max=T_tot, dt=1e-3)\n",
    "ghf.plot_fourier_analysis(time2, dipole2, overlap2, xFFT2, xfreqFFT2, overlapFFT2, overlapfreqFFT2, save_dipole=False, save_overlap=False, save_fft_x=False, save_fft_overlap=False)"
   ]
  },
  {
   "cell_type": "code",
   "execution_count": null,
   "metadata": {},
   "outputs": [],
   "source": [
    "Omega = 0.75\n",
    "omega = 7.0\n",
    "T_on = 10*np.pi\n",
    "T_tot = 100*np.pi\n",
    "ghf = do2.GHF(Omega=Omega, omega=omega)\n",
    "C2, time3, dipole3, overlap3, xFFT3, xfreqFFT3, overlapFFT3, overlapfreqFFT3 = ghf.fourier_analysis(tolerance=1e-6, max_iter=100, t_laser_ON=T_on, t_max=T_tot, dt=1e-3)\n",
    "ghf.plot_fourier_analysis(time3, dipole3, overlap3, xFFT3, xfreqFFT3, overlapFFT3, overlapfreqFFT3, save_dipole=False, save_overlap=False, save_fft_x=False, save_fft_overlap=False)"
   ]
  },
  {
   "cell_type": "code",
   "execution_count": null,
   "metadata": {},
   "outputs": [],
   "source": [
    "ghf.plot_fft_dipole_comparison(xfreqFFT1, xfreqFFT2, xfreqFFT3, xFFT1, xFFT2, xFFT3, save_fig=False)"
   ]
  },
  {
   "cell_type": "code",
   "execution_count": null,
   "metadata": {},
   "outputs": [],
   "source": [
    "ghf.plot_fft_overlap_comparison(overlapfreqFFT1, overlapfreqFFT2, overlapfreqFFT3, overlapFFT1, overlapFFT2, overlapFFT3, save_fig=False)"
   ]
  },
  {
   "cell_type": "code",
   "execution_count": null,
   "metadata": {},
   "outputs": [],
   "source": []
  }
 ],
 "metadata": {
  "kernelspec": {
   "name": "python385jvsc74a57bd07c50efc9c5e7cd6763e801f6499f1b1d25a18b544a090ecb533edb37b15d92c1",
   "display_name": "Python 3.8.5 64-bit ('base': conda)"
  },
  "language_info": {
   "codemirror_mode": {
    "name": "ipython",
    "version": 3
   },
   "file_extension": ".py",
   "mimetype": "text/x-python",
   "name": "python",
   "nbconvert_exporter": "python",
   "pygments_lexer": "ipython3",
   "version": "3.8.5"
  }
 },
 "nbformat": 4,
 "nbformat_minor": 4
}