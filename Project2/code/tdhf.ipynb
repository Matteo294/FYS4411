{
 "cells": [
  {
   "cell_type": "code",
   "execution_count": null,
   "metadata": {},
   "outputs": [],
   "source": [
    "import numpy as np\n",
    "import matplotlib.pyplot as plt\n",
    "import scipy.linalg, scipy.integrate\n",
    "import do2\n",
    "from IPython.display import display, clear_output\n",
    "import time\n",
    "from quantum_systems import ODQD, GeneralOrbitalSystem\n",
    "from matplotlib import animation, rc\n",
    "from IPython.display import HTML\n",
    "%load_ext autoreload\n",
    "%autoreload 2"
   ]
  },
  {
   "cell_type": "code",
   "execution_count": null,
   "metadata": {},
   "outputs": [],
   "source": [
    "### PARAMETERS ###\n",
    "l = 10 # Number of eigenstates of the HO potential --> we use these functions to generate the single particle WF\n",
    "grid_length = 10  # The width of the one-dimensional grid\n",
    "num_grid_points = 201  # The number of discretized points on the grid.\n",
    "# More points give better results for the single-particle basis at the cost of slower setup.\n",
    "alpha = 1  # The strength of the Coulomb interaction \n",
    "a = 0.25  # The shielding parameter in the Coulomb interaction potential\n",
    "Omega = 0.25  # The frequency of the harmonic oscillator trap\n",
    "omega = 8*Omega # frequency of the laser field\n",
    "epsilon0 = 1.0 # amplitude of the laser field\n",
    "potential=ODQD.HOPotential(Omega)\n",
    "nparticles = 2"
   ]
  },
  {
   "cell_type": "code",
   "execution_count": 25,
   "metadata": {},
   "outputs": [
    {
     "output_type": "error",
     "ename": "SyntaxError",
     "evalue": "unexpected EOF while parsing (<ipython-input-25-cab3dcb8abcd>, line 3)",
     "traceback": [
      "\u001b[1;36m  File \u001b[1;32m\"<ipython-input-25-cab3dcb8abcd>\"\u001b[1;36m, line \u001b[1;32m3\u001b[0m\n\u001b[1;33m    print(type(ghf.fill_fock_matrix(C0,0))\u001b[0m\n\u001b[1;37m                                          ^\u001b[0m\n\u001b[1;31mSyntaxError\u001b[0m\u001b[1;31m:\u001b[0m unexpected EOF while parsing\n"
     ]
    }
   ],
   "source": [
    "ghf = do2.GHF()\n",
    "epsilon, C0, energy_per_step, delta_per_step = ghf.solve_TIHF(tolerance=1e-6, max_iter=100)\n",
    "print(type(ghf.fill_fock_matrix(C0,0)))"
   ]
  },
  {
   "cell_type": "code",
   "execution_count": 15,
   "metadata": {},
   "outputs": [
    {
     "output_type": "execute_result",
     "data": {
      "text/plain": [
       "float"
      ]
     },
     "metadata": {},
     "execution_count": 15
    }
   ],
   "source": []
  }
 ],
 "metadata": {
  "kernelspec": {
   "name": "python385jvsc74a57bd07c50efc9c5e7cd6763e801f6499f1b1d25a18b544a090ecb533edb37b15d92c1",
   "display_name": "Python 3.8.5 64-bit ('base': conda)"
  },
  "language_info": {
   "codemirror_mode": {
    "name": "ipython",
    "version": 3
   },
   "file_extension": ".py",
   "mimetype": "text/x-python",
   "name": "python",
   "nbconvert_exporter": "python",
   "pygments_lexer": "ipython3",
   "version": "3.8.5"
  }
 },
 "nbformat": 4,
 "nbformat_minor": 4
}